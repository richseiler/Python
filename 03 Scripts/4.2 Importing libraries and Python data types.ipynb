{
 "cells": [
  {
   "cell_type": "code",
   "execution_count": 26,
   "id": "6e7e4c1d",
   "metadata": {},
   "outputs": [],
   "source": [
    "#01. Importing libraries"
   ]
  },
  {
   "cell_type": "markdown",
   "id": "efb5d5d3",
   "metadata": {},
   "source": [
    "Import Libraries"
   ]
  },
  {
   "cell_type": "code",
   "execution_count": 1,
   "id": "33e3d861",
   "metadata": {},
   "outputs": [],
   "source": [
    "# Import libraries\n",
    "import pandas as pd\n",
    "import numpy as np\n",
    "import os"
   ]
  },
  {
   "cell_type": "markdown",
   "id": "24eba546",
   "metadata": {},
   "source": [
    "Data Types"
   ]
  },
  {
   "cell_type": "code",
   "execution_count": 2,
   "id": "5020b335",
   "metadata": {},
   "outputs": [],
   "source": [
    "x=2"
   ]
  },
  {
   "cell_type": "code",
   "execution_count": 3,
   "id": "4cfdcd08",
   "metadata": {},
   "outputs": [
    {
     "data": {
      "text/plain": [
       "int"
      ]
     },
     "execution_count": 3,
     "metadata": {},
     "output_type": "execute_result"
    }
   ],
   "source": [
    "type(x)"
   ]
  },
  {
   "cell_type": "code",
   "execution_count": 4,
   "id": "77fd3ffe",
   "metadata": {},
   "outputs": [],
   "source": [
    "y=5.678"
   ]
  },
  {
   "cell_type": "code",
   "execution_count": 5,
   "id": "3c864bda",
   "metadata": {},
   "outputs": [
    {
     "data": {
      "text/plain": [
       "float"
      ]
     },
     "execution_count": 5,
     "metadata": {},
     "output_type": "execute_result"
    }
   ],
   "source": [
    "type(y)"
   ]
  },
  {
   "cell_type": "code",
   "execution_count": 6,
   "id": "5bfcf5aa",
   "metadata": {},
   "outputs": [],
   "source": [
    "z='Brazil'"
   ]
  },
  {
   "cell_type": "code",
   "execution_count": 7,
   "id": "1fbeaafa",
   "metadata": {},
   "outputs": [
    {
     "data": {
      "text/plain": [
       "str"
      ]
     },
     "execution_count": 7,
     "metadata": {},
     "output_type": "execute_result"
    }
   ],
   "source": [
    "type(z)"
   ]
  },
  {
   "cell_type": "code",
   "execution_count": 8,
   "id": "4c27d098",
   "metadata": {},
   "outputs": [
    {
     "data": {
      "text/plain": [
       "str"
      ]
     },
     "execution_count": 8,
     "metadata": {},
     "output_type": "execute_result"
    }
   ],
   "source": [
    "type('Mania')"
   ]
  },
  {
   "cell_type": "code",
   "execution_count": 9,
   "id": "9b94a530",
   "metadata": {},
   "outputs": [
    {
     "data": {
      "text/plain": [
       "bool"
      ]
     },
     "execution_count": 9,
     "metadata": {},
     "output_type": "execute_result"
    }
   ],
   "source": [
    "type(True)"
   ]
  },
  {
   "cell_type": "code",
   "execution_count": 10,
   "id": "f683c1c6",
   "metadata": {},
   "outputs": [
    {
     "data": {
      "text/plain": [
       "bool"
      ]
     },
     "execution_count": 10,
     "metadata": {},
     "output_type": "execute_result"
    }
   ],
   "source": [
    "type(False)"
   ]
  },
  {
   "cell_type": "code",
   "execution_count": 11,
   "id": "02ec836c",
   "metadata": {},
   "outputs": [
    {
     "name": "stdout",
     "output_type": "stream",
     "text": [
      "2\n"
     ]
    }
   ],
   "source": [
    "print(x)"
   ]
  },
  {
   "cell_type": "code",
   "execution_count": 12,
   "id": "23bcb135",
   "metadata": {},
   "outputs": [
    {
     "data": {
      "text/plain": [
       "6"
      ]
     },
     "execution_count": 12,
     "metadata": {},
     "output_type": "execute_result"
    }
   ],
   "source": [
    "x+4"
   ]
  },
  {
   "cell_type": "code",
   "execution_count": 13,
   "id": "590a8775",
   "metadata": {},
   "outputs": [],
   "source": [
    "x=x+4"
   ]
  },
  {
   "cell_type": "code",
   "execution_count": 14,
   "id": "0aa1bc52",
   "metadata": {},
   "outputs": [
    {
     "name": "stdout",
     "output_type": "stream",
     "text": [
      "6\n"
     ]
    }
   ],
   "source": [
    "print(x)"
   ]
  },
  {
   "cell_type": "code",
   "execution_count": 15,
   "id": "6f4c3a8f",
   "metadata": {},
   "outputs": [],
   "source": [
    "n='potato'"
   ]
  },
  {
   "cell_type": "code",
   "execution_count": 16,
   "id": "770e1476",
   "metadata": {},
   "outputs": [
    {
     "data": {
      "text/plain": [
       "'potatopotatopotatopotatopotatopotatopotatopotatopotatopotatopotatopotato'"
      ]
     },
     "execution_count": 16,
     "metadata": {},
     "output_type": "execute_result"
    }
   ],
   "source": [
    "n*12"
   ]
  },
  {
   "cell_type": "code",
   "execution_count": 17,
   "id": "b2d1e5d1",
   "metadata": {},
   "outputs": [
    {
     "data": {
      "text/plain": [
       "bool"
      ]
     },
     "execution_count": 17,
     "metadata": {},
     "output_type": "execute_result"
    }
   ],
   "source": [
    "type(x==y)"
   ]
  },
  {
   "cell_type": "code",
   "execution_count": 18,
   "id": "3dea484c",
   "metadata": {},
   "outputs": [
    {
     "data": {
      "text/plain": [
       "False"
      ]
     },
     "execution_count": 18,
     "metadata": {},
     "output_type": "execute_result"
    }
   ],
   "source": [
    "x==y"
   ]
  },
  {
   "cell_type": "code",
   "execution_count": 19,
   "id": "8637a5a5",
   "metadata": {},
   "outputs": [],
   "source": [
    "x=10"
   ]
  },
  {
   "cell_type": "code",
   "execution_count": 20,
   "id": "e302334f",
   "metadata": {},
   "outputs": [
    {
     "data": {
      "text/plain": [
       "100"
      ]
     },
     "execution_count": 20,
     "metadata": {},
     "output_type": "execute_result"
    }
   ],
   "source": [
    "x*x"
   ]
  },
  {
   "cell_type": "code",
   "execution_count": 22,
   "id": "c112e711",
   "metadata": {},
   "outputs": [
    {
     "data": {
      "text/plain": [
       "100"
      ]
     },
     "execution_count": 22,
     "metadata": {},
     "output_type": "execute_result"
    }
   ],
   "source": [
    "x+x+x+x+x+x+x+x+x+x"
   ]
  },
  {
   "cell_type": "code",
   "execution_count": 23,
   "id": "475421e6",
   "metadata": {},
   "outputs": [],
   "source": [
    "y=90"
   ]
  },
  {
   "cell_type": "code",
   "execution_count": 24,
   "id": "d039102f",
   "metadata": {},
   "outputs": [
    {
     "data": {
      "text/plain": [
       "100"
      ]
     },
     "execution_count": 24,
     "metadata": {},
     "output_type": "execute_result"
    }
   ],
   "source": [
    "x+y"
   ]
  },
  {
   "cell_type": "code",
   "execution_count": 30,
   "id": "59db3214",
   "metadata": {},
   "outputs": [],
   "source": [
    "c = 0.125"
   ]
  },
  {
   "cell_type": "code",
   "execution_count": 31,
   "id": "6c83331d",
   "metadata": {},
   "outputs": [],
   "source": [
    "d = 0.875"
   ]
  },
  {
   "cell_type": "code",
   "execution_count": 33,
   "id": "70550053",
   "metadata": {},
   "outputs": [
    {
     "data": {
      "text/plain": [
       "7.0"
      ]
     },
     "execution_count": 33,
     "metadata": {},
     "output_type": "execute_result"
    }
   ],
   "source": [
    "d/c"
   ]
  },
  {
   "cell_type": "code",
   "execution_count": 35,
   "id": "57c6e2a5",
   "metadata": {},
   "outputs": [],
   "source": [
    "a = 'career'"
   ]
  },
  {
   "cell_type": "code",
   "execution_count": 36,
   "id": "f5b8d09d",
   "metadata": {},
   "outputs": [],
   "source": [
    "b = 'foundry'"
   ]
  },
  {
   "cell_type": "code",
   "execution_count": 37,
   "id": "8022d126",
   "metadata": {},
   "outputs": [
    {
     "data": {
      "text/plain": [
       "'careerfoundry'"
      ]
     },
     "execution_count": 37,
     "metadata": {},
     "output_type": "execute_result"
    }
   ],
   "source": [
    "a+b"
   ]
  },
  {
   "cell_type": "code",
   "execution_count": 45,
   "id": "4b20b027",
   "metadata": {},
   "outputs": [],
   "source": [
    "h = 'Happy '"
   ]
  },
  {
   "cell_type": "code",
   "execution_count": 46,
   "id": "c1f6a3c0",
   "metadata": {},
   "outputs": [],
   "source": [
    "b='birthday '"
   ]
  },
  {
   "cell_type": "code",
   "execution_count": 47,
   "id": "ffffd141",
   "metadata": {},
   "outputs": [],
   "source": [
    "t='to '"
   ]
  },
  {
   "cell_type": "code",
   "execution_count": 48,
   "id": "b550e032",
   "metadata": {},
   "outputs": [],
   "source": [
    "y= 'you'"
   ]
  },
  {
   "cell_type": "code",
   "execution_count": 49,
   "id": "03115cf3",
   "metadata": {},
   "outputs": [
    {
     "data": {
      "text/plain": [
       "'Happy birthday to you'"
      ]
     },
     "execution_count": 49,
     "metadata": {},
     "output_type": "execute_result"
    }
   ],
   "source": [
    "h + b + t + y"
   ]
  },
  {
   "cell_type": "code",
   "execution_count": 54,
   "id": "aadd7b02",
   "metadata": {},
   "outputs": [],
   "source": [
    "i = ' I '"
   ]
  },
  {
   "cell_type": "code",
   "execution_count": 55,
   "id": "a95e0142",
   "metadata": {},
   "outputs": [],
   "source": [
    "l = 'love '"
   ]
  },
  {
   "cell_type": "code",
   "execution_count": 56,
   "id": "48e2883a",
   "metadata": {},
   "outputs": [
    {
     "data": {
      "text/plain": [
       "' I love you'"
      ]
     },
     "execution_count": 56,
     "metadata": {},
     "output_type": "execute_result"
    }
   ],
   "source": [
    "i + l + y"
   ]
  },
  {
   "cell_type": "code",
   "execution_count": 57,
   "id": "0e432371",
   "metadata": {},
   "outputs": [
    {
     "data": {
      "text/plain": [
       "' I love you I love you I love you I love you I love you I love you I love you I love you I love you I love you I love you I love you I love you I love you I love you I love you I love you I love you I love you I love you I love you I love you I love you I love you I love you I love you I love you I love you I love you I love you I love you I love you I love you I love you I love you I love you I love you I love you I love you I love you I love you I love you I love you I love you I love you I love you I love you I love you I love you I love you I love you I love you I love you I love you I love you I love you I love you I love you I love you I love you I love you I love you I love you I love you I love you I love you I love you I love you I love you I love you I love you I love you I love you I love you I love you I love you I love you I love you I love you I love you I love you I love you I love you I love you I love you I love you I love you I love you I love you I love you I love you I love you I love you I love you I love you I love you I love you I love you I love you I love you'"
      ]
     },
     "execution_count": 57,
     "metadata": {},
     "output_type": "execute_result"
    }
   ],
   "source": [
    "(i + l + y) * 100"
   ]
  },
  {
   "cell_type": "code",
   "execution_count": null,
   "id": "e80081b5",
   "metadata": {},
   "outputs": [],
   "source": []
  }
 ],
 "metadata": {
  "kernelspec": {
   "display_name": "Python 3 (ipykernel)",
   "language": "python",
   "name": "python3"
  },
  "language_info": {
   "codemirror_mode": {
    "name": "ipython",
    "version": 3
   },
   "file_extension": ".py",
   "mimetype": "text/x-python",
   "name": "python",
   "nbconvert_exporter": "python",
   "pygments_lexer": "ipython3",
   "version": "3.10.9"
  }
 },
 "nbformat": 4,
 "nbformat_minor": 5
}
