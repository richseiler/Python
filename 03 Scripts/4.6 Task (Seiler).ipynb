{
 "cells": [
  {
   "cell_type": "markdown",
   "id": "85e90b94",
   "metadata": {},
   "source": [
    "# 4.6 Task"
   ]
  },
  {
   "cell_type": "code",
   "execution_count": 1,
   "id": "5fe6b266",
   "metadata": {},
   "outputs": [],
   "source": [
    "# import libraries\n",
    "import pandas as pd\n",
    "import numpy as np\n",
    "import os"
   ]
  },
  {
   "cell_type": "code",
   "execution_count": 2,
   "id": "92020028",
   "metadata": {},
   "outputs": [],
   "source": [
    "# Folder Path\n",
    "path = r'C:\\Users\\Owner\\Documents\\Instacart Basket Analysis'"
   ]
  },
  {
   "cell_type": "code",
   "execution_count": 3,
   "id": "2b5e25e4",
   "metadata": {},
   "outputs": [],
   "source": [
    "# import the 'orders_products_combined.pkl' dataset\n",
    "df_orders_combined = pd.read_pickle(r'C:\\Users\\Owner\\Documents\\Instacart Basket Analysis\\02 Data\\Prepared Data\\orders_products_combined.pkl')\n",
    "\n",
    "# import the 'products_checked.csv' dataset\n",
    "df_prods = pd.read_csv(r'C:\\Users\\Owner\\Documents\\Instacart Basket Analysis\\02 Data\\Prepared Data\\products_checked.csv', index_col = False)"
   ]
  },
  {
   "cell_type": "markdown",
   "id": "50342d91",
   "metadata": {},
   "source": [
    "### Merge data from orders_products_combined.pkl and products_checked.csv"
   ]
  },
  {
   "cell_type": "code",
   "execution_count": 4,
   "id": "bbed7a91",
   "metadata": {},
   "outputs": [
    {
     "name": "stdout",
     "output_type": "stream",
     "text": [
      "Number of rows and columns of df_prods:\n",
      " (49693, 6)\n",
      "\n",
      "Number of rows and columns of df_orders_combined:\n",
      " (32434489, 10)\n"
     ]
    }
   ],
   "source": [
    "# check the dimensions of both dataframes\n",
    "print('Number of rows and columns of df_prods:\\n', df_prods.shape)\n",
    "print('\\nNumber of rows and columns of df_orders_combined:\\n', df_orders_combined.shape)"
   ]
  },
  {
   "cell_type": "code",
   "execution_count": 5,
   "id": "e2d18296",
   "metadata": {},
   "outputs": [
    {
     "name": "stdout",
     "output_type": "stream",
     "text": [
      "Output of df_prods:\n",
      "    Unnamed: 0  product_id                                       product_name  \\\n",
      "0           0           1                         Chocolate Sandwich Cookies   \n",
      "1           1           2                                   All-Seasons Salt   \n",
      "2           2           3               Robust Golden Unsweetened Oolong Tea   \n",
      "3           3           4  Smart Ones Classic Favorites Mini Rigatoni Wit...   \n",
      "4           4           5                          Green Chile Anytime Sauce   \n",
      "\n",
      "   aisle_id  department_id  prices  \n",
      "0        61             19     5.8  \n",
      "1       104             13     9.3  \n",
      "2        94              7     4.5  \n",
      "3        38              1    10.5  \n",
      "4         5             13     4.3  \n",
      "\n",
      "Output of df_orders_combined:\n",
      "    order_id  user_id  order_number  order_dow  order_hour_of_day  \\\n",
      "0   2539329        1             1          2                  8   \n",
      "1   2539329        1             1          2                  8   \n",
      "2   2539329        1             1          2                  8   \n",
      "3   2539329        1             1          2                  8   \n",
      "4   2539329        1             1          2                  8   \n",
      "\n",
      "   days_since_prior_order  product_id  add_to_cart_order  reordered _merge  \n",
      "0                     NaN         196                  1          0   both  \n",
      "1                     NaN       14084                  2          0   both  \n",
      "2                     NaN       12427                  3          0   both  \n",
      "3                     NaN       26088                  4          0   both  \n",
      "4                     NaN       26405                  5          0   both  \n"
     ]
    }
   ],
   "source": [
    "# check the output of both dataframes\n",
    "print('Output of df_prods:\\n', df_prods.head(5))\n",
    "print('\\nOutput of df_orders_combined:\\n', df_orders_combined.head(5))"
   ]
  },
  {
   "cell_type": "code",
   "execution_count": 6,
   "id": "9f68c87a",
   "metadata": {},
   "outputs": [],
   "source": [
    "# Merge df_prods and df_orders_combined using product_id as a key and an indicator flag\n",
    "df_merged = df_prods.merge(df_orders_combined, on = 'product_id', how = 'inner', indicator = 'exists')"
   ]
  },
  {
   "cell_type": "code",
   "execution_count": 7,
   "id": "8b62cdae",
   "metadata": {},
   "outputs": [
    {
     "name": "stdout",
     "output_type": "stream",
     "text": [
      "Number of rows and columns of df_merged:\n",
      " (32434212, 16)\n",
      "\n",
      "Output of df_merged:\n",
      "    Unnamed: 0  product_id                product_name  aisle_id  \\\n",
      "0           0           1  Chocolate Sandwich Cookies        61   \n",
      "1           0           1  Chocolate Sandwich Cookies        61   \n",
      "2           0           1  Chocolate Sandwich Cookies        61   \n",
      "3           0           1  Chocolate Sandwich Cookies        61   \n",
      "4           0           1  Chocolate Sandwich Cookies        61   \n",
      "\n",
      "   department_id  prices  order_id  user_id  order_number  order_dow  \\\n",
      "0             19     5.8   3139998      138            28          6   \n",
      "1             19     5.8   1977647      138            30          6   \n",
      "2             19     5.8    389851      709             2          0   \n",
      "3             19     5.8    652770      764             1          3   \n",
      "4             19     5.8   1813452      764             3          4   \n",
      "\n",
      "   order_hour_of_day  days_since_prior_order  add_to_cart_order  reordered  \\\n",
      "0                 11                     3.0                  5          0   \n",
      "1                 17                    20.0                  1          1   \n",
      "2                 21                     6.0                 20          0   \n",
      "3                 13                     NaN                 10          0   \n",
      "4                 17                     9.0                 11          1   \n",
      "\n",
      "  _merge exists  \n",
      "0   both   both  \n",
      "1   both   both  \n",
      "2   both   both  \n",
      "3   both   both  \n",
      "4   both   both  \n"
     ]
    }
   ],
   "source": [
    "# check the dimensions and output of the merged dataframe\n",
    "print('Number of rows and columns of df_merged:\\n', df_merged.shape)\n",
    "print('\\nOutput of df_merged:\\n', df_merged.head(5))"
   ]
  },
  {
   "cell_type": "code",
   "execution_count": 8,
   "id": "8112aab8",
   "metadata": {},
   "outputs": [
    {
     "name": "stdout",
     "output_type": "stream",
     "text": [
      "Check the values in the exists column:\n",
      " both          32434212\n",
      "left_only            0\n",
      "right_only           0\n",
      "Name: exists, dtype: int64\n"
     ]
    }
   ],
   "source": [
    "# check the values in the 'exists' column\n",
    "print('Check the values in the exists column:\\n', df_merged['exists'].value_counts())"
   ]
  },
  {
   "cell_type": "code",
   "execution_count": 9,
   "id": "7c202f22",
   "metadata": {},
   "outputs": [
    {
     "name": "stdout",
     "output_type": "stream",
     "text": [
      "Output of df_merged:\n",
      "    Unnamed: 0  product_id                product_name  aisle_id  \\\n",
      "0           0           1  Chocolate Sandwich Cookies        61   \n",
      "1           0           1  Chocolate Sandwich Cookies        61   \n",
      "2           0           1  Chocolate Sandwich Cookies        61   \n",
      "3           0           1  Chocolate Sandwich Cookies        61   \n",
      "4           0           1  Chocolate Sandwich Cookies        61   \n",
      "\n",
      "   department_id  prices  order_id  user_id  order_number  order_dow  \\\n",
      "0             19     5.8   3139998      138            28          6   \n",
      "1             19     5.8   1977647      138            30          6   \n",
      "2             19     5.8    389851      709             2          0   \n",
      "3             19     5.8    652770      764             1          3   \n",
      "4             19     5.8   1813452      764             3          4   \n",
      "\n",
      "   order_hour_of_day  days_since_prior_order  add_to_cart_order  reordered  \n",
      "0                 11                     3.0                  5          0  \n",
      "1                 17                    20.0                  1          1  \n",
      "2                 21                     6.0                 20          0  \n",
      "3                 13                     NaN                 10          0  \n",
      "4                 17                     9.0                 11          1  \n"
     ]
    }
   ],
   "source": [
    "# clean up the merged dataframe by deleting the '_merge' and 'exist' columns\n",
    "df_merged = df_merged.drop(columns = ['_merge', 'exists'])\n",
    "print('Output of df_merged:\\n', df_merged.head(5))"
   ]
  },
  {
   "cell_type": "code",
   "execution_count": 10,
   "id": "26f71e88",
   "metadata": {},
   "outputs": [],
   "source": [
    "# export df_merged in .pkl format\n",
    "df_merged.to_pickle(r'C:\\Users\\Owner\\Documents\\Instacart Basket Analysis\\02 Data\\Prepared Data\\orders_products_merged.pkl')"
   ]
  },
  {
   "cell_type": "code",
   "execution_count": null,
   "id": "65ba5022",
   "metadata": {},
   "outputs": [],
   "source": []
  }
 ],
 "metadata": {
  "kernelspec": {
   "display_name": "Python 3 (ipykernel)",
   "language": "python",
   "name": "python3"
  },
  "language_info": {
   "codemirror_mode": {
    "name": "ipython",
    "version": 3
   },
   "file_extension": ".py",
   "mimetype": "text/x-python",
   "name": "python",
   "nbconvert_exporter": "python",
   "pygments_lexer": "ipython3",
   "version": "3.10.9"
  }
 },
 "nbformat": 4,
 "nbformat_minor": 5
}
